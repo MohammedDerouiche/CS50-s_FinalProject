{
 "cells": [
  {
   "cell_type": "markdown",
   "metadata": {},
   "source": [
    "## **Collecting Data vai Web Scraping**"
   ]
  },
  {
   "cell_type": "markdown",
   "metadata": {},
   "source": [
    "I'll go with multi Websites with multi abroach for each website, then I'll choose the best abroach that gives me:\n",
    "1. An easy way to scrape the data.\n",
    "1. A big amount of good shaped data returns."
   ]
  }
 ],
 "metadata": {
  "language_info": {
   "name": "python"
  }
 },
 "nbformat": 4,
 "nbformat_minor": 2
}
